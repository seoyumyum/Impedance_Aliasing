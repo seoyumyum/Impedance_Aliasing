{
 "cells": [
  {
   "cell_type": "code",
   "execution_count": 297,
   "metadata": {},
   "outputs": [],
   "source": [
    "import numpy as np\n",
    "from numpy.linalg import*\n",
    "import matplotlib.pyplot as plt\n",
    "from numpy import r_, exp, cos, sin, pi, zeros, ones, hanning, sqrt, log, floor, reshape, mean\n",
    "from scipy import signal\n",
    "from numpy.fft import fft\n",
    "import math\n",
    "%matplotlib inline"
   ]
  },
  {
   "cell_type": "code",
   "execution_count": 316,
   "metadata": {},
   "outputs": [],
   "source": [
    "# data import by readfile\n",
    "data_path = './With_offset/IF_Impedance_BVD.csv' \n",
    "data = np.genfromtxt(data_path, delimiter=',')\n",
    "Ns = len(data[1:,0])\n",
    "f_data = data[1:,0]\n",
    "real_data = data[1:,1]\n",
    "imag_data = data[1:,2]\n",
    "\n",
    "# Design parameters\n",
    "R_S = 50   # Source resistance\n",
    "R_SW = 5   # Switch ON resistance\n",
    "N = 4      # Number of paths\n",
    "n = 1      # reference vs target relative harmonic number difference  (ref - target)\n",
    "\n",
    "f_S = 3.5  # [GHz]\n",
    "f_LO = 1.9 # [GHz]  - after divider\n"
   ]
  },
  {
   "cell_type": "code",
   "execution_count": 266,
   "metadata": {},
   "outputs": [
    {
     "name": "stdout",
     "output_type": "stream",
     "text": [
      "3000\n",
      "[-15.   -14.99 -14.98 ...  14.98  14.99  15.  ]\n"
     ]
    }
   ],
   "source": [
    "print(int(100*(15+15)))\n",
    "print(f_data)"
   ]
  },
  {
   "cell_type": "code",
   "execution_count": 311,
   "metadata": {},
   "outputs": [],
   "source": [
    "def Z_IF(freq):       # in [GHz]\n",
    "    if abs(freq) > 15:\n",
    "        return 0\n",
    "    else:\n",
    "        index = int(100*(freq+15))\n",
    "        return real_data[index]+1j*imag_data[index]\n",
    "\n",
    "def a_coef(x):\n",
    "    return np.sinc(x/N)*exp(-1j*x*np.pi/N)/N\n",
    "\n",
    "def G_sum(i,j):\n",
    "    Sum = 0\n",
    "    for k in range(-100,101):\n",
    "        Sum += a_coef(N*k-n+i)*np.conjugate(a_coef(N*k-n+j))\n",
    "    return N*Sum\n",
    "\n",
    "def gamma(i):\n",
    "    return N*a_coef(i)*np.conjugate(a_coef(i))\n",
    "def R_sh(i):\n",
    "    if i==0:\n",
    "        return 1000000\n",
    "    else:\n",
    "        return (R_S+R_SW)/(1/(N*gamma(i))-1)"
   ]
  },
  {
   "cell_type": "code",
   "execution_count": 319,
   "metadata": {},
   "outputs": [
    {
     "name": "stdout",
     "output_type": "stream",
     "text": [
      "[106.44604667 101.14364471 105.17667712 123.08834625 103.58474013\n",
      "  95.69405102  87.72017641  87.51284351 103.07288485 126.52416605\n",
      " 136.68752578 130.88056286 123.01605976 120.93385625 114.19389642\n",
      " 108.39611514 104.93401582 100.96345605  98.44765218  98.04010123\n",
      "  96.84943702  94.97720299  93.31025884  90.7893811   89.94419564\n",
      "  88.58769145  87.21092238  85.39065863  82.96634716  86.94466529\n",
      "  79.89172196]\n"
     ]
    }
   ],
   "source": [
    "# Full Equation --function\n",
    "def Zx_Full(f_S,f_LO, M):   # M: Number of harmonics to consider\n",
    "  \n",
    "    A = np.zeros((2*M+1,2*M+1),dtype='complex')\n",
    "    b = np.zeros(2*M+1,dtype='complex')\n",
    "    for i in range(-M,M+1):\n",
    "        for j in range(-M,M+1):\n",
    "            A[i+M,j+M] = Z_IF(f_S + (j-n)*f_LO)*G_sum(i,j)\n",
    "        b[i+M] = a_coef(i-n)\n",
    "\n",
    "    X_hat = np.matmul(np.linalg.inv((R_S+R_SW)*np.identity(2*M+1) + A),b)\n",
    "\n",
    "    Harm_sum = 0\n",
    "    for i in range(-M,M+1):\n",
    "        Harm_sum += N*a_coef(n-i)*Z_IF(f_S+(i-n)*f_LO)*X_hat[i+M]\n",
    "\n",
    "    return R_SW + (R_S+R_SW)/((1/Harm_sum)-1)\n",
    "\n",
    "# LTI_Full sweep\n",
    "NumSweep=31\n",
    "f_start = 2 #GHz\n",
    "df = 0.1  # GHz\n",
    "Zx = np.zeros(NumSweep,dtype='complex')\n",
    "\n",
    "for i in range(NumSweep):\n",
    "    f_S = f_start + i*df\n",
    "    f_LO = f_S - 1.6\n",
    "    Zx[i]= Zx_Full(f_S,f_LO,10)\n",
    "\n",
    "print(np.real(Zx))"
   ]
  },
  {
   "cell_type": "code",
   "execution_count": 317,
   "metadata": {},
   "outputs": [],
   "source": [
    "# LTI model 1 -- function\n",
    "def Zx_LTI_1(f_S,f_LO):\n",
    "    M = 50   # Number of harmonics to consider\n",
    "    Sum = 0\n",
    "    for i in range(-M,M+1):\n",
    "            Sum += gamma(i)*Z_IF(f_S + i*f_LO)*R_sh(i)/((gamma(i)*Z_IF(f_S + i*f_LO)) + R_sh(i))\n",
    "    return R_SW + Sum\n",
    "\n",
    "# LTI 1 sweep\n",
    "NumSweep=31\n",
    "f_start = 2 #GHz\n",
    "df = 0.1  # GHz\n",
    "Zx_LTI = np.zeros(NumSweep,dtype='complex')\n",
    "\n",
    "for i in range(NumSweep):\n",
    "    f_S = f_start + i*df\n",
    "    f_LO = f_S - 1.6\n",
    "    Zx_LTI[i]= Zx_LTI_1(f_S,f_LO)\n"
   ]
  },
  {
   "cell_type": "code",
   "execution_count": 320,
   "metadata": {},
   "outputs": [],
   "source": [
    "with open('Zx_fullEQN.txt', 'w') as f:\n",
    "    f.write('    '.join(str(i) for i in np.real(Zx))+'\\n')\n",
    "    f.write('    '.join(str(i) for i in np.imag(Zx)))"
   ]
  },
  {
   "cell_type": "code",
   "execution_count": 318,
   "metadata": {},
   "outputs": [],
   "source": [
    "with open('Zx_LTI.txt', 'w') as f:\n",
    "    f.write('    '.join(str(i) for i in np.real(Zx_LTI))+'\\n')\n",
    "    f.write('    '.join(str(i) for i in np.imag(Zx_LTI)))"
   ]
  },
  {
   "cell_type": "code",
   "execution_count": 270,
   "metadata": {},
   "outputs": [
    {
     "name": "stdout",
     "output_type": "stream",
     "text": [
      "(15.516814589238754-1.03630940208921j)\n"
     ]
    }
   ],
   "source": [
    "# LTI model 1\n",
    "M = 50   # Number of harmonics to consider\n",
    "Harm_sum_LTI_1 = 0\n",
    "for i in range(-M,M+1):\n",
    "    Harm_sum_LTI_1 += gamma(i)*Z_IF(f_S + i*f_LO)*R_sh(i)/((gamma(i)*Z_IF(f_S + i*f_LO)) + R_sh(i))\n",
    "Zx = R_SW + Harm_sum_LTI_1\n",
    "print(Zx)"
   ]
  },
  {
   "cell_type": "code",
   "execution_count": 283,
   "metadata": {},
   "outputs": [
    {
     "name": "stdout",
     "output_type": "stream",
     "text": [
      "(15.7210432202846-2.517594327559626j)\n"
     ]
    }
   ],
   "source": [
    "# Full Equation\n",
    "\n",
    "M = 10  # Number of harmonics to consider\n",
    "A = np.zeros((2*M+1,2*M+1),dtype='complex')\n",
    "b = np.zeros(2*M+1,dtype='complex')\n",
    "for i in range(-M,M+1):\n",
    "    for j in range(-M,M+1):\n",
    "        A[i+M,j+M] = Z_IF(f_S + (j-n)*f_LO)*G_sum(i,j)\n",
    "    b[i+M] = a_coef(i-n)\n",
    "\n",
    "X_hat = np.matmul(np.linalg.inv((R_S+R_SW)*np.identity(2*M+1) + A),b)\n",
    "\n",
    "Harm_sum = 0\n",
    "for i in range(-M,M+1):\n",
    "    Harm_sum += N*a_coef(n-i)*Z_IF(f_S+(i-n)*f_LO)*X_hat[i+M]\n",
    "\n",
    "Z_x = R_SW + (R_S+R_SW)/((1/Harm_sum)-1)\n",
    "print(Z_x)\n",
    "\n"
   ]
  },
  {
   "cell_type": "code",
   "execution_count": 30,
   "metadata": {},
   "outputs": [
    {
     "name": "stdout",
     "output_type": "stream",
     "text": [
      "[0. 0. 0. 0.]\n"
     ]
    }
   ],
   "source": [
    "M=3\n",
    "b = np.zeros(M+1)\n",
    "print(b)"
   ]
  },
  {
   "cell_type": "code",
   "execution_count": 72,
   "metadata": {},
   "outputs": [
    {
     "name": "stderr",
     "output_type": "stream",
     "text": [
      "D:\\Python\\Anaconda3\\lib\\site-packages\\ipykernel_launcher.py:17: RuntimeWarning: divide by zero encountered in cdouble_scalars\n",
      "D:\\Python\\Anaconda3\\lib\\site-packages\\ipykernel_launcher.py:17: RuntimeWarning: invalid value encountered in cdouble_scalars\n",
      "D:\\Python\\Anaconda3\\lib\\site-packages\\ipykernel_launcher.py:1: RuntimeWarning: invalid value encountered in cdouble_scalars\n",
      "  \"\"\"Entry point for launching an IPython kernel.\n"
     ]
    },
    {
     "data": {
      "text/plain": [
       "(nan+nanj)"
      ]
     },
     "execution_count": 72,
     "metadata": {},
     "output_type": "execute_result"
    }
   ],
   "source": [
    "1/R_sh(0)"
   ]
  },
  {
   "cell_type": "code",
   "execution_count": null,
   "metadata": {},
   "outputs": [],
   "source": []
  }
 ],
 "metadata": {
  "kernelspec": {
   "display_name": "Python 3",
   "language": "python",
   "name": "python3"
  },
  "language_info": {
   "codemirror_mode": {
    "name": "ipython",
    "version": 3
   },
   "file_extension": ".py",
   "mimetype": "text/x-python",
   "name": "python",
   "nbconvert_exporter": "python",
   "pygments_lexer": "ipython3",
   "version": "3.8.8"
  }
 },
 "nbformat": 4,
 "nbformat_minor": 2
}
